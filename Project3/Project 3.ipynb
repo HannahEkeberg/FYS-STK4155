{
 "cells": [
  {
   "cell_type": "code",
   "execution_count": 3,
   "metadata": {},
   "outputs": [],
   "source": [
    "import os\n",
    "from sklearn.datasets import load_breast_cancer\n",
    "from sklearn.tree import DecisionTreeClassifier\n",
    "from sklearn.model_selection import train_test_split\n",
    "from sklearn.metrics import confusion_matrix\n",
    "from sklearn.tree import export_graphviz\n",
    "\n",
    "from IPython.display import Image \n",
    "from pydot import graph_from_dot_data\n",
    "import pandas as pd\n",
    "import numpy as np"
   ]
  },
  {
   "cell_type": "markdown",
   "metadata": {},
   "source": [
    "## Import Cancer Data"
   ]
  },
  {
   "cell_type": "code",
   "execution_count": 57,
   "metadata": {},
   "outputs": [],
   "source": [
    "#import breast cancer data\n",
    "data = pd.read_csv('BC_data.csv')\n",
    "\n",
    "#set independent and dependent data X and Y \n",
    "X = data.iloc[:,2:32].values\n",
    "Y = data.loc[:, data.columns=='diagnosis'].values.ravel()"
   ]
  },
  {
   "cell_type": "markdown",
   "metadata": {},
   "source": [
    "## Exploring the data balance "
   ]
  },
  {
   "cell_type": "code",
   "execution_count": 58,
   "metadata": {},
   "outputs": [
    {
     "data": {
      "image/png": "[encoded data removed]",
      "text/plain": [
       "<Figure size 432x288 with 1 Axes>"
      ]
     },
     "metadata": {},
     "output_type": "display_data"
    },
    {
     "name": "stdout",
     "output_type": "stream",
     "text": [
      "Percentage of Malignant diagnosis is 37.258347978910365\n",
      "Percentage of Benign diagnosis is 62.741652021089635\n"
     ]
    }
   ],
   "source": [
    "import seaborn as sns\n",
    "import matplotlib.pyplot as plt\n",
    "#plot\n",
    "sns.set(style=\"white\")\n",
    "sns.set(style=\"whitegrid\")\n",
    "sns.countplot(x='diagnosis',data=data, palette='Set1')\n",
    "plt.title('Cancer data diagnosis (Malignanat=M, Benign=B)')\n",
    "plt.savefig('counter_plot_balance.png', dpi=300)\n",
    "plt.show()\n",
    "\n",
    "#percentage calculation \n",
    "count_malignant = len(data[data['diagnosis']=='M'])\n",
    "count_benign = len(data[data['diagnosis']=='B'])\n",
    "pct_malignant = count_malignant/(count_malignant+count_benign)\n",
    "print(\"Percentage of Malignant diagnosis is\", pct_malignant*100)\n",
    "pct_benign = count_benign/(count_malignant+count_benign)\n",
    "print(\"Percentage of Benign diagnosis is\", pct_benign*100)"
   ]
  },
  {
   "cell_type": "markdown",
   "metadata": {},
   "source": [
    "## Encoding categorical data"
   ]
  },
  {
   "cell_type": "code",
   "execution_count": 94,
   "metadata": {},
   "outputs": [],
   "source": [
    "# Use LabelEncoder from scikitlearn\n",
    "from sklearn.preprocessing import LabelEncoder, StandardScaler\n",
    "Y = LabelEncoder().fit_transform(Y)"
   ]
  },
  {
   "cell_type": "markdown",
   "metadata": {},
   "source": [
    "## Split data into train and validation"
   ]
  },
  {
   "cell_type": "code",
   "execution_count": 72,
   "metadata": {},
   "outputs": [],
   "source": [
    "#Train-Test Split - Dividing into Train and Validation(test) data 80:20\n",
    "trainingShare = 0.8 \n",
    "seed = 1\n",
    "X_train, X_val, Y_train, Y_val =train_test_split(X, Y, \n",
    "                                              test_size = 1-trainingShare,\n",
    "                                              random_state=seed,shuffle=True)"
   ]
  },
  {
   "cell_type": "code",
   "execution_count": 92,
   "metadata": {},
   "outputs": [
    {
     "data": {
      "text/plain": [
       "(62.741652021089635, 37.258347978910365)"
      ]
     },
     "execution_count": 92,
     "metadata": {},
     "output_type": "execute_result"
    }
   ],
   "source": [
    "#quick check of diagnosis distribution in train data\n",
    "num_zeros = (Y_train == 0).sum()\n",
    "num_ones = (Y_train == 1).sum()\n",
    "\n",
    "prec_B_train = (num_zeros/len(Y))*100\n",
    "prec_M_train  = (num_ones/len(Y))*100\n",
    "\n",
    "prec_B, prec_M"
   ]
  },
  {
   "cell_type": "markdown",
   "metadata": {},
   "source": [
    "## standard scaling "
   ]
  },
  {
   "cell_type": "code",
   "execution_count": 97,
   "metadata": {},
   "outputs": [],
   "source": [
    "#scaling independent variables \n",
    "\n",
    "sc      = StandardScaler() \n",
    "X_train = sc.fit_transform(X_train)\n",
    "X_val   = sc.transform(X_val)"
   ]
  },
  {
   "cell_type": "code",
   "execution_count": null,
   "metadata": {},
   "outputs": [],
   "source": []
  }
 ],
 "metadata": {
  "kernelspec": {
   "display_name": "Python 3",
   "language": "python",
   "name": "python3"
  },
  "language_info": {
   "codemirror_mode": {
    "name": "ipython",
    "version": 3
   },
   "file_extension": ".py",
   "mimetype": "text/x-python",
   "name": "python",
   "nbconvert_exporter": "python",
   "pygments_lexer": "ipython3",
   "version": "3.7.1"
  }
 },
 "nbformat": 4,
 "nbformat_minor": 2
}
