{
 "cells": [
  {
   "cell_type": "code",
   "execution_count": 3,
   "metadata": {},
   "outputs": [],
   "source": [
    "import pandas as pd\n",
    "import os\n",
    "import numpy as np"
   ]
  },
  {
   "cell_type": "code",
   "execution_count": 4,
   "metadata": {},
   "outputs": [],
   "source": [
    "from sklearn.model_selection import train_test_split\n",
    "from sklearn.preprocessing import OneHotEncoder\n",
    "from sklearn.compose import ColumnTransformer\n",
    "from sklearn.preprocessing import StandardScaler, OneHotEncoder\n",
    "from sklearn.metrics import confusion_matrix, accuracy_score, roc_auc_score"
   ]
  },
  {
   "cell_type": "code",
   "execution_count": 89,
   "metadata": {},
   "outputs": [],
   "source": [
    "np.random.seed(0)\n",
    "#Read file into pandas dataframe \n",
    "nanDict= {}\n",
    "df = pd.read_excel('default of credit card clients.xls', header=1, skiprows=0, index_col=0, na_values=nanDict)\n",
    "df.rename(index=str, columns={'default paument next month': 'defaultPaymentNextMonth'}, inplace=True)\n",
    "\n",
    "#Drop the rows including data where parameters are out of range\n",
    "df=df.drop(df[df.SEX<1].index)\n",
    "df=df.drop(df[df.SEX<2].index)\n",
    "df=df.drop(df[(df.EDUCATION <1)].index)\n",
    "df=df.drop(df[(df.EDUCATION >4)].index)\n",
    "df=df.drop(df[df.MARRIAGE<1].index)\n",
    "df=df.drop(df[df.MARRIAGE>3].index)\n",
    "\n",
    "\n",
    "#Features and targets\n",
    "X= df.loc[:, df.columns != 'defaultPaymentNextMonth'] \n",
    "y= df.loc[:, df.columns == 'defaultPaymentNextMonth']\n"
   ]
  },
  {
   "cell_type": "code",
   "execution_count": null,
   "metadata": {},
   "outputs": [],
   "source": []
  },
  {
   "cell_type": "markdown",
   "metadata": {},
   "source": [
    "#test= np.where(X[:,1]<1, X[:,1], X[:,1] >2)[0]\n",
    "#test\n",
    "X= df.loc[:, df.columns != 'defaultPaymentNextMonth'].values\n",
    "y= df.loc[:, df.columns == 'defaultPaymentNextMonth'].values\n",
    "\n",
    "\n",
    "outlier_gender1 = np.where(X[:,1] < 1)[0]\n",
    "outlier_gender2 = np.where(X[:,1] > 2)[0]\n",
    "\n",
    "outlier_education1 = np.where(X[:,2] < 1)[0]\n",
    "outlier_education2 = np.where(X[:,2] > 4)[0]\n",
    "\n",
    "outlier_marital1 = np.where(X[:,3] < 1)[0]\n",
    "outlier_marital2 = np.where(X[:,3] > 3)[0]\n",
    "\n",
    "inds = np.concatenate((outlier_gender1,\n",
    "                        outlier_gender2,\n",
    "                        outlier_education1,\n",
    "                        outlier_education2,\n",
    "                        outlier_marital1,\n",
    "                        outlier_marital2))\n",
    "\n",
    "outlier_rows = np.unique(inds)\n",
    "X = np.delete(X, outlier_rows, axis=0)\n",
    "y = np.delete(y, outlier_rows, axis=0)\n",
    "\n",
    "y"
   ]
  },
  {
   "cell_type": "code",
   "execution_count": 92,
   "metadata": {},
   "outputs": [],
   "source": [
    "# Categorical variables to one-hot's\n",
    "onehotencoder = OneHotEncoder(categories=\"auto\")\n",
    "\n",
    "#OneHot encoder for column 1,2,3 [sex,education,marriage]\n",
    "#Designmatrix\n",
    "X = ColumnTransformer(\n",
    "    [('onehotencoder', onehotencoder, [1,2,3]),],\n",
    "    remainder=\"passthrough\").fit_transform(X)\n"
   ]
  },
  {
   "cell_type": "code",
   "execution_count": 12,
   "metadata": {},
   "outputs": [],
   "source": [
    "#train-test split\n",
    "trainingShare = 0.5 \n",
    "seed  = 1\n",
    "XTrain, XTest, yTrain, yTest=train_test_split(X, y, train_size=trainingShare,\n",
    "                                              test_size = 1-trainingShare,\n",
    "                                              random_state=seed)\n",
    "\n",
    "# Input Scaling\n",
    "sc = StandardScaler()\n",
    "XTrain = sc.fit_transform(XTrain)\n",
    "XTest = sc.transform(XTest)\n",
    "\n",
    "\n"
   ]
  },
  {
   "cell_type": "code",
   "execution_count": null,
   "metadata": {},
   "outputs": [],
   "source": [
    "# One-hot's of the target vector\n",
    "Y_train_onehot, Y_test_onehot = onehotencoder.fit_transform(yTrain), onehotencoder.fit_transform(yTest)"
   ]
  },
  {
   "cell_type": "markdown",
   "metadata": {},
   "source": [
    "\"\"\"from sklearn.linear_model import LogisticRegression\n",
    "from sklearn.model_selection import GridSearchCV\n",
    "\n",
    "lambdas=np.logspace(-5,7,13)\n",
    "parameters = [{'C': 1./lambdas, \"solver\":[\"lbfgs\"]}]#*len(parameters)}]\n",
    "scoring = ['accuracy', 'roc_auc']\n",
    "logReg = LogisticRegression()\n",
    "gridSearch = GridSearchCV(logReg, parameters, cv=5, scoring=scoring, refit='roc_auc')\"\"\""
   ]
  },
  {
   "cell_type": "code",
   "execution_count": null,
   "metadata": {},
   "outputs": [],
   "source": []
  },
  {
   "cell_type": "code",
   "execution_count": null,
   "metadata": {},
   "outputs": [],
   "source": []
  }
 ],
 "metadata": {
  "kernelspec": {
   "display_name": "Python 3",
   "language": "python",
   "name": "python3"
  },
  "language_info": {
   "codemirror_mode": {
    "name": "ipython",
    "version": 3
   },
   "file_extension": ".py",
   "mimetype": "text/x-python",
   "name": "python",
   "nbconvert_exporter": "python",
   "pygments_lexer": "ipython3",
   "version": "3.7.1"
  }
 },
 "nbformat": 4,
 "nbformat_minor": 2
}
